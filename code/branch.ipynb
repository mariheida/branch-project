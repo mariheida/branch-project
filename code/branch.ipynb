{
 "cells": [
  {
   "cell_type": "code",
   "execution_count": 1,
   "metadata": {
    "collapsed": false
   },
   "outputs": [],
   "source": [
    "import json\n",
    "import os.path\n",
    "import csv\n",
    "import pandas as pd\n",
    "import pylab as pl"
   ]
  },
  {
   "cell_type": "code",
   "execution_count": 2,
   "metadata": {
    "collapsed": false
   },
   "outputs": [],
   "source": [
    "NUM_USERS = 400\n",
    "user_data = {}\n",
    "call_log = {}\n",
    "contact_list = {}\n",
    "sms_log = {}\n",
    "user_status = {}\n",
    "#initialize call logs, contact lists and sms logs to empty list\n",
    "for i in range(1, NUM_USERS+1):\n",
    "    call_log[i] = []\n",
    "    contact_list[i] = []\n",
    "    sms_log[i] = []"
   ]
  },
  {
   "cell_type": "markdown",
   "metadata": {},
   "source": [
    "#### Get the status of each user and save it as a dictionary"
   ]
  },
  {
   "cell_type": "code",
   "execution_count": 3,
   "metadata": {
    "collapsed": false,
    "scrolled": true
   },
   "outputs": [],
   "source": [
    "user_status['user_id'] = []\n",
    "user_status['disbursement_date'] = []\n",
    "user_status['status'] = []\n",
    "with open(\"../data/user_logs/user_status.csv\", 'rb') as csvfile:\n",
    "    has_header = csv.Sniffer().has_header(csvfile.read(1024))\n",
    "    csvfile.seek(0)  # Rewind\n",
    "    reader = csv.reader(csvfile)\n",
    "    if has_header:\n",
    "        next(reader)  # Skip header row\n",
    "    for row in reader:\n",
    "        user_status['user_id'].append(row[0])\n",
    "        user_status['disbursement_date'].append(row[1])\n",
    "        user_status['status'].append(row[2])"
   ]
  },
  {
   "cell_type": "markdown",
   "metadata": {},
   "source": [
    "#### Get the call log, contact list, and sms log for each user and store them in their corresponding dictionaries.  While we're at it, get the number of devices"
   ]
  },
  {
   "cell_type": "code",
   "execution_count": 4,
   "metadata": {
    "collapsed": false
   },
   "outputs": [
    {
     "name": "stdout",
     "output_type": "stream",
     "text": [
      "Error loading file\n",
      "Error loading file\n",
      "Error loading file\n",
      "Error loading file\n",
      "Error loading file\n",
      "Error loading file\n",
      "Error loading file\n",
      "Error loading file\n"
     ]
    }
   ],
   "source": [
    "user_data[\"num_devices\"] = []\n",
    "for user_id in range(1, NUM_USERS+1):\n",
    "    path = './../data/user_logs/user-' + str(user_id) + '/'\n",
    "    devices = [name for name in os.listdir(path)]\n",
    "    for device in devices:\n",
    "        call_log_path = path + device + '/collated_call_log.txt'\n",
    "        contact_list_path = path + device + '/collated_contact_list.txt'\n",
    "        sms_log_path = path + device + '/collated_sms_log.txt'\n",
    "        try:\n",
    "            with open(call_log_path) as call_log_file:\n",
    "                call_log[user_id].extend(json.load(call_log_file))\n",
    "        except IOError:\n",
    "            print \"Error loading file\"\n",
    "        try:\n",
    "            with open(contact_list_path) as contact_list_file:\n",
    "                contact_list[user_id].extend(json.load(contact_list_file))\n",
    "        except IOError:\n",
    "            print \"Error loading file\"\n",
    "        try:\n",
    "            with open(sms_log_path) as sms_log_file:\n",
    "                sms_log[user_id].extend(json.load(sms_log_file))\n",
    "        except IOError:\n",
    "            print \"Error loading file\"\n",
    "            \n",
    "    #print str(user_id) + \":\",str(len(devices)), \"devices\"        \n",
    "    user_data[\"num_devices\"].append(len(devices))"
   ]
  },
  {
   "cell_type": "markdown",
   "metadata": {},
   "source": [
    "#### Get some user statistics: number of calls, number of sms messages, number of contacts, number of devices"
   ]
  },
  {
   "cell_type": "code",
   "execution_count": 5,
   "metadata": {
    "collapsed": false
   },
   "outputs": [],
   "source": [
    "user_data[\"num_calls\"] = []\n",
    "user_data[\"num_contacts\"] = []\n",
    "user_data[\"num_sms\"] = []\n",
    "user_data[\"user_id\"] = []\n",
    "for user_id in range(1, NUM_USERS+1):\n",
    "    user_data[\"user_id\"].append(user_id)\n",
    "    user_data[\"num_calls\"].append(len(call_log[user_id]))\n",
    "    user_data[\"num_contacts\"].append(len(contact_list[user_id]))\n",
    "    user_data[\"num_sms\"].append(len(sms_log[user_id]))"
   ]
  },
  {
   "cell_type": "code",
   "execution_count": 6,
   "metadata": {
    "collapsed": false
   },
   "outputs": [
    {
     "data": {
      "text/html": [
       "<div>\n",
       "<style scoped>\n",
       "    .dataframe tbody tr th:only-of-type {\n",
       "        vertical-align: middle;\n",
       "    }\n",
       "\n",
       "    .dataframe tbody tr th {\n",
       "        vertical-align: top;\n",
       "    }\n",
       "\n",
       "    .dataframe thead th {\n",
       "        text-align: right;\n",
       "    }\n",
       "</style>\n",
       "<table border=\"1\" class=\"dataframe\">\n",
       "  <thead>\n",
       "    <tr style=\"text-align: right;\">\n",
       "      <th></th>\n",
       "      <th>num_calls</th>\n",
       "      <th>num_contacts</th>\n",
       "      <th>num_devices</th>\n",
       "      <th>num_sms</th>\n",
       "      <th>user_id</th>\n",
       "    </tr>\n",
       "  </thead>\n",
       "  <tbody>\n",
       "    <tr>\n",
       "      <th>0</th>\n",
       "      <td>182</td>\n",
       "      <td>246</td>\n",
       "      <td>1</td>\n",
       "      <td>133</td>\n",
       "      <td>1</td>\n",
       "    </tr>\n",
       "    <tr>\n",
       "      <th>1</th>\n",
       "      <td>1423</td>\n",
       "      <td>88</td>\n",
       "      <td>1</td>\n",
       "      <td>3773</td>\n",
       "      <td>2</td>\n",
       "    </tr>\n",
       "    <tr>\n",
       "      <th>2</th>\n",
       "      <td>442</td>\n",
       "      <td>200</td>\n",
       "      <td>1</td>\n",
       "      <td>125</td>\n",
       "      <td>3</td>\n",
       "    </tr>\n",
       "    <tr>\n",
       "      <th>3</th>\n",
       "      <td>1775</td>\n",
       "      <td>711</td>\n",
       "      <td>1</td>\n",
       "      <td>10522</td>\n",
       "      <td>4</td>\n",
       "    </tr>\n",
       "    <tr>\n",
       "      <th>4</th>\n",
       "      <td>2356</td>\n",
       "      <td>128</td>\n",
       "      <td>1</td>\n",
       "      <td>1654</td>\n",
       "      <td>5</td>\n",
       "    </tr>\n",
       "  </tbody>\n",
       "</table>\n",
       "</div>"
      ],
      "text/plain": [
       "   num_calls  num_contacts  num_devices  num_sms  user_id\n",
       "0        182           246            1      133        1\n",
       "1       1423            88            1     3773        2\n",
       "2        442           200            1      125        3\n",
       "3       1775           711            1    10522        4\n",
       "4       2356           128            1     1654        5"
      ]
     },
     "execution_count": 6,
     "metadata": {},
     "output_type": "execute_result"
    }
   ],
   "source": [
    "user_data_df = pd.DataFrame(data=user_data)\n",
    "user_data_df.head()"
   ]
  },
  {
   "cell_type": "markdown",
   "metadata": {
    "collapsed": false
   },
   "source": [
    "#### Let's see what this dataset looks like"
   ]
  },
  {
   "cell_type": "code",
   "execution_count": 10,
   "metadata": {
    "collapsed": false
   },
   "outputs": [
    {
     "data": {
      "text/html": [
       "<div>\n",
       "<style scoped>\n",
       "    .dataframe tbody tr th:only-of-type {\n",
       "        vertical-align: middle;\n",
       "    }\n",
       "\n",
       "    .dataframe tbody tr th {\n",
       "        vertical-align: top;\n",
       "    }\n",
       "\n",
       "    .dataframe thead th {\n",
       "        text-align: right;\n",
       "    }\n",
       "</style>\n",
       "<table border=\"1\" class=\"dataframe\">\n",
       "  <thead>\n",
       "    <tr style=\"text-align: right;\">\n",
       "      <th></th>\n",
       "      <th>num_calls</th>\n",
       "      <th>num_contacts</th>\n",
       "      <th>num_sms</th>\n",
       "      <th>num_devices</th>\n",
       "    </tr>\n",
       "  </thead>\n",
       "  <tbody>\n",
       "    <tr>\n",
       "      <th>count</th>\n",
       "      <td>400.000000</td>\n",
       "      <td>400.000000</td>\n",
       "      <td>400.000000</td>\n",
       "      <td>400.000000</td>\n",
       "    </tr>\n",
       "    <tr>\n",
       "      <th>mean</th>\n",
       "      <td>1588.225000</td>\n",
       "      <td>573.585000</td>\n",
       "      <td>3336.160000</td>\n",
       "      <td>1.255000</td>\n",
       "    </tr>\n",
       "    <tr>\n",
       "      <th>std</th>\n",
       "      <td>1704.651581</td>\n",
       "      <td>1027.860431</td>\n",
       "      <td>6028.870615</td>\n",
       "      <td>0.718516</td>\n",
       "    </tr>\n",
       "    <tr>\n",
       "      <th>min</th>\n",
       "      <td>4.000000</td>\n",
       "      <td>14.000000</td>\n",
       "      <td>4.000000</td>\n",
       "      <td>1.000000</td>\n",
       "    </tr>\n",
       "    <tr>\n",
       "      <th>25%</th>\n",
       "      <td>500.000000</td>\n",
       "      <td>209.000000</td>\n",
       "      <td>410.250000</td>\n",
       "      <td>1.000000</td>\n",
       "    </tr>\n",
       "    <tr>\n",
       "      <th>50%</th>\n",
       "      <td>1000.000000</td>\n",
       "      <td>344.500000</td>\n",
       "      <td>1571.500000</td>\n",
       "      <td>1.000000</td>\n",
       "    </tr>\n",
       "    <tr>\n",
       "      <th>75%</th>\n",
       "      <td>2137.250000</td>\n",
       "      <td>594.750000</td>\n",
       "      <td>4443.500000</td>\n",
       "      <td>1.000000</td>\n",
       "    </tr>\n",
       "    <tr>\n",
       "      <th>max</th>\n",
       "      <td>11821.000000</td>\n",
       "      <td>13850.000000</td>\n",
       "      <td>86546.000000</td>\n",
       "      <td>7.000000</td>\n",
       "    </tr>\n",
       "  </tbody>\n",
       "</table>\n",
       "</div>"
      ],
      "text/plain": [
       "          num_calls  num_contacts       num_sms  num_devices\n",
       "count    400.000000    400.000000    400.000000   400.000000\n",
       "mean    1588.225000    573.585000   3336.160000     1.255000\n",
       "std     1704.651581   1027.860431   6028.870615     0.718516\n",
       "min        4.000000     14.000000      4.000000     1.000000\n",
       "25%      500.000000    209.000000    410.250000     1.000000\n",
       "50%     1000.000000    344.500000   1571.500000     1.000000\n",
       "75%     2137.250000    594.750000   4443.500000     1.000000\n",
       "max    11821.000000  13850.000000  86546.000000     7.000000"
      ]
     },
     "execution_count": 10,
     "metadata": {},
     "output_type": "execute_result"
    }
   ],
   "source": [
    "user_data_df[['num_calls','num_contacts','num_sms','num_devices']].describe()"
   ]
  },
  {
   "cell_type": "code",
   "execution_count": null,
   "metadata": {
    "collapsed": true
   },
   "outputs": [],
   "source": [
    "user_data_df[['num_calls','num_contacts','num_sms','num_devices']].hist()\n",
    "pl.show()"
   ]
  },
  {
   "cell_type": "code",
   "execution_count": null,
   "metadata": {
    "collapsed": true
   },
   "outputs": [],
   "source": []
  },
  {
   "cell_type": "code",
   "execution_count": null,
   "metadata": {
    "collapsed": true
   },
   "outputs": [],
   "source": []
  },
  {
   "cell_type": "code",
   "execution_count": null,
   "metadata": {
    "collapsed": true
   },
   "outputs": [],
   "source": []
  },
  {
   "cell_type": "code",
   "execution_count": null,
   "metadata": {
    "collapsed": true
   },
   "outputs": [],
   "source": []
  }
 ],
 "metadata": {
  "kernelspec": {
   "display_name": "Python 2",
   "language": "python",
   "name": "python2"
  },
  "language_info": {
   "codemirror_mode": {
    "name": "ipython",
    "version": 2
   },
   "file_extension": ".py",
   "mimetype": "text/x-python",
   "name": "python",
   "nbconvert_exporter": "python",
   "pygments_lexer": "ipython2",
   "version": "2.7.10"
  }
 },
 "nbformat": 4,
 "nbformat_minor": 0
}
