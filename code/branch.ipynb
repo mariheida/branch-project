{
 "cells": [
  {
   "cell_type": "code",
   "execution_count": 27,
   "metadata": {
    "collapsed": false
   },
   "outputs": [],
   "source": [
    "%matplotlib inline\n",
    "import json\n",
    "import os.path\n",
    "import csv\n",
    "from scipy import stats\n",
    "import pandas as pd\n",
    "import pylab as pl\n",
    "from datetime import datetime as dt"
   ]
  },
  {
   "cell_type": "code",
   "execution_count": 2,
   "metadata": {
    "collapsed": false
   },
   "outputs": [],
   "source": [
    "NUM_USERS = 400\n",
    "user_data = {}\n",
    "call_logs = {}\n",
    "contact_lists = {}\n",
    "sms_logs = {}\n",
    "user_status = {}"
   ]
  },
  {
   "cell_type": "code",
   "execution_count": 3,
   "metadata": {
    "collapsed": true
   },
   "outputs": [],
   "source": [
    "#initialize call logs, contact lists and sms logs to empty list\n",
    "for i in range(1, NUM_USERS+1):\n",
    "    call_logs[i] = []\n",
    "    contact_lists[i] = []\n",
    "    sms_logs[i] = []"
   ]
  },
  {
   "cell_type": "markdown",
   "metadata": {},
   "source": [
    "#### Get the status of each user and save it as a dictionary"
   ]
  },
  {
   "cell_type": "code",
   "execution_count": 4,
   "metadata": {
    "collapsed": false,
    "scrolled": true
   },
   "outputs": [],
   "source": [
    "with open(\"../data/user_logs/user_status.csv\", 'rb') as csvfile:\n",
    "    has_header = csv.Sniffer().has_header(csvfile.read(1024))\n",
    "    csvfile.seek(0)  # Rewind\n",
    "    reader = csv.reader(csvfile)\n",
    "    if has_header:\n",
    "        next(reader)  # Skip header row\n",
    "    for row in reader:\n",
    "        user_id = int(row[0])\n",
    "        user_status[user_id] = []\n",
    "        user_status[user_id].append(row[1])  # disbursement time\n",
    "        user_status[user_id].append(row[2])  # status"
   ]
  },
  {
   "cell_type": "markdown",
   "metadata": {},
   "source": [
    "#### Get the call log, contact list, and sms log for each user and store them in their corresponding dictionaries.  While we're at it, get the number of devices"
   ]
  },
  {
   "cell_type": "code",
   "execution_count": 5,
   "metadata": {
    "collapsed": false
   },
   "outputs": [],
   "source": [
    "user_data[\"num_devices\"] = []\n",
    "for user_id in range(1, NUM_USERS+1):\n",
    "    path = './../data/user_logs/user-' + str(user_id) + '/'\n",
    "    devices = [name for name in os.listdir(path)]\n",
    "    for device in devices:\n",
    "        call_log_path = path + device + '/collated_call_log.txt'\n",
    "        contact_list_path = path + device + '/collated_contact_list.txt'\n",
    "        sms_log_path = path + device + '/collated_sms_log.txt'\n",
    "        try:\n",
    "            with open(call_log_path) as call_log_file:\n",
    "                call_logs[user_id].extend(json.load(call_log_file))\n",
    "        except IOError:\n",
    "            #print \"Error loading file\"\n",
    "            pass\n",
    "        try:\n",
    "            with open(contact_list_path) as contact_list_file:\n",
    "                contact_lists[user_id].extend(json.load(contact_list_file))\n",
    "        except IOError:\n",
    "            #print \"Error loading file\"\n",
    "            pass\n",
    "        try:\n",
    "            with open(sms_log_path) as sms_log_file:\n",
    "                sms_logs[user_id].extend(json.load(sms_log_file))\n",
    "        except IOError:\n",
    "            #print \"Error loading file\"\n",
    "            pass\n",
    "    #print str(user_id) + \":\",str(len(devices)), \"devices\"        \n",
    "    user_data[\"num_devices\"].append(len(devices))"
   ]
  },
  {
   "cell_type": "markdown",
   "metadata": {},
   "source": [
    "#### Get some user statistics: number of calls, number of sms messages, number of contacts, number of devices"
   ]
  },
  {
   "cell_type": "code",
   "execution_count": 6,
   "metadata": {
    "collapsed": false
   },
   "outputs": [],
   "source": [
    "user_data[\"num_calls\"] = []\n",
    "user_data[\"num_contacts\"] = []\n",
    "user_data[\"num_sms\"] = []\n",
    "user_data[\"user_id\"] = []\n",
    "for user_id in range(1, NUM_USERS+1):\n",
    "    user_data[\"user_id\"].append(user_id)\n",
    "    user_data[\"num_calls\"].append(len(call_logs[user_id]))\n",
    "    user_data[\"num_contacts\"].append(len(contact_lists[user_id]))\n",
    "    user_data[\"num_sms\"].append(len(sms_logs[user_id]))"
   ]
  },
  {
   "cell_type": "code",
   "execution_count": 7,
   "metadata": {
    "collapsed": false
   },
   "outputs": [
    {
     "data": {
      "text/html": [
       "<div>\n",
       "<style scoped>\n",
       "    .dataframe tbody tr th:only-of-type {\n",
       "        vertical-align: middle;\n",
       "    }\n",
       "\n",
       "    .dataframe tbody tr th {\n",
       "        vertical-align: top;\n",
       "    }\n",
       "\n",
       "    .dataframe thead th {\n",
       "        text-align: right;\n",
       "    }\n",
       "</style>\n",
       "<table border=\"1\" class=\"dataframe\">\n",
       "  <thead>\n",
       "    <tr style=\"text-align: right;\">\n",
       "      <th></th>\n",
       "      <th>num_calls</th>\n",
       "      <th>num_contacts</th>\n",
       "      <th>num_devices</th>\n",
       "      <th>num_sms</th>\n",
       "      <th>user_id</th>\n",
       "    </tr>\n",
       "  </thead>\n",
       "  <tbody>\n",
       "    <tr>\n",
       "      <th>0</th>\n",
       "      <td>182</td>\n",
       "      <td>246</td>\n",
       "      <td>1</td>\n",
       "      <td>133</td>\n",
       "      <td>1</td>\n",
       "    </tr>\n",
       "    <tr>\n",
       "      <th>1</th>\n",
       "      <td>1423</td>\n",
       "      <td>88</td>\n",
       "      <td>1</td>\n",
       "      <td>3773</td>\n",
       "      <td>2</td>\n",
       "    </tr>\n",
       "    <tr>\n",
       "      <th>2</th>\n",
       "      <td>442</td>\n",
       "      <td>200</td>\n",
       "      <td>1</td>\n",
       "      <td>125</td>\n",
       "      <td>3</td>\n",
       "    </tr>\n",
       "    <tr>\n",
       "      <th>3</th>\n",
       "      <td>1775</td>\n",
       "      <td>711</td>\n",
       "      <td>1</td>\n",
       "      <td>10522</td>\n",
       "      <td>4</td>\n",
       "    </tr>\n",
       "    <tr>\n",
       "      <th>4</th>\n",
       "      <td>2356</td>\n",
       "      <td>128</td>\n",
       "      <td>1</td>\n",
       "      <td>1654</td>\n",
       "      <td>5</td>\n",
       "    </tr>\n",
       "  </tbody>\n",
       "</table>\n",
       "</div>"
      ],
      "text/plain": [
       "   num_calls  num_contacts  num_devices  num_sms  user_id\n",
       "0        182           246            1      133        1\n",
       "1       1423            88            1     3773        2\n",
       "2        442           200            1      125        3\n",
       "3       1775           711            1    10522        4\n",
       "4       2356           128            1     1654        5"
      ]
     },
     "execution_count": 7,
     "metadata": {},
     "output_type": "execute_result"
    }
   ],
   "source": [
    "user_data_df = pd.DataFrame(data=user_data)\n",
    "user_data_df.head()"
   ]
  },
  {
   "cell_type": "markdown",
   "metadata": {
    "collapsed": false
   },
   "source": [
    "#### Let's see what this dataset looks like"
   ]
  },
  {
   "cell_type": "code",
   "execution_count": 8,
   "metadata": {
    "collapsed": false
   },
   "outputs": [
    {
     "data": {
      "text/html": [
       "<div>\n",
       "<style scoped>\n",
       "    .dataframe tbody tr th:only-of-type {\n",
       "        vertical-align: middle;\n",
       "    }\n",
       "\n",
       "    .dataframe tbody tr th {\n",
       "        vertical-align: top;\n",
       "    }\n",
       "\n",
       "    .dataframe thead th {\n",
       "        text-align: right;\n",
       "    }\n",
       "</style>\n",
       "<table border=\"1\" class=\"dataframe\">\n",
       "  <thead>\n",
       "    <tr style=\"text-align: right;\">\n",
       "      <th></th>\n",
       "      <th>num_calls</th>\n",
       "      <th>num_contacts</th>\n",
       "      <th>num_sms</th>\n",
       "      <th>num_devices</th>\n",
       "    </tr>\n",
       "  </thead>\n",
       "  <tbody>\n",
       "    <tr>\n",
       "      <th>count</th>\n",
       "      <td>400.000000</td>\n",
       "      <td>400.000000</td>\n",
       "      <td>400.000000</td>\n",
       "      <td>400.000000</td>\n",
       "    </tr>\n",
       "    <tr>\n",
       "      <th>mean</th>\n",
       "      <td>1588.225000</td>\n",
       "      <td>573.585000</td>\n",
       "      <td>3336.160000</td>\n",
       "      <td>1.255000</td>\n",
       "    </tr>\n",
       "    <tr>\n",
       "      <th>std</th>\n",
       "      <td>1704.651581</td>\n",
       "      <td>1027.860431</td>\n",
       "      <td>6028.870615</td>\n",
       "      <td>0.718516</td>\n",
       "    </tr>\n",
       "    <tr>\n",
       "      <th>min</th>\n",
       "      <td>4.000000</td>\n",
       "      <td>14.000000</td>\n",
       "      <td>4.000000</td>\n",
       "      <td>1.000000</td>\n",
       "    </tr>\n",
       "    <tr>\n",
       "      <th>25%</th>\n",
       "      <td>500.000000</td>\n",
       "      <td>209.000000</td>\n",
       "      <td>410.250000</td>\n",
       "      <td>1.000000</td>\n",
       "    </tr>\n",
       "    <tr>\n",
       "      <th>50%</th>\n",
       "      <td>1000.000000</td>\n",
       "      <td>344.500000</td>\n",
       "      <td>1571.500000</td>\n",
       "      <td>1.000000</td>\n",
       "    </tr>\n",
       "    <tr>\n",
       "      <th>75%</th>\n",
       "      <td>2137.250000</td>\n",
       "      <td>594.750000</td>\n",
       "      <td>4443.500000</td>\n",
       "      <td>1.000000</td>\n",
       "    </tr>\n",
       "    <tr>\n",
       "      <th>max</th>\n",
       "      <td>11821.000000</td>\n",
       "      <td>13850.000000</td>\n",
       "      <td>86546.000000</td>\n",
       "      <td>7.000000</td>\n",
       "    </tr>\n",
       "  </tbody>\n",
       "</table>\n",
       "</div>"
      ],
      "text/plain": [
       "          num_calls  num_contacts       num_sms  num_devices\n",
       "count    400.000000    400.000000    400.000000   400.000000\n",
       "mean    1588.225000    573.585000   3336.160000     1.255000\n",
       "std     1704.651581   1027.860431   6028.870615     0.718516\n",
       "min        4.000000     14.000000      4.000000     1.000000\n",
       "25%      500.000000    209.000000    410.250000     1.000000\n",
       "50%     1000.000000    344.500000   1571.500000     1.000000\n",
       "75%     2137.250000    594.750000   4443.500000     1.000000\n",
       "max    11821.000000  13850.000000  86546.000000     7.000000"
      ]
     },
     "execution_count": 8,
     "metadata": {},
     "output_type": "execute_result"
    }
   ],
   "source": [
    "user_data_df[['num_calls','num_contacts','num_sms','num_devices']].describe()"
   ]
  },
  {
   "cell_type": "code",
   "execution_count": 9,
   "metadata": {
    "collapsed": false
   },
   "outputs": [
    {
     "data": {
      "image/png": "[encoded data removed]",
      "text/plain": [
       "<matplotlib.figure.Figure at 0x7f782ea68f90>"
      ]
     },
     "metadata": {},
     "output_type": "display_data"
    }
   ],
   "source": [
    "user_data_df[['num_calls','num_contacts','num_sms','num_devices']].hist()\n",
    "pl.show()"
   ]
  },
  {
   "cell_type": "markdown",
   "metadata": {},
   "source": [
    "#### Let's see how many previous loans the users have been awarded. The intuition is that if a user has been awarded sevaral loans in the past, they will probably be more likely to repay this one. \n",
    "\n",
    "#### We will look at the user's sms messages to find messages that were sent by \"Branch-Co\" and start with \"Your Branch loan of...\", as this is what awarded loan sms messages look like."
   ]
  },
  {
   "cell_type": "code",
   "execution_count": 10,
   "metadata": {
    "collapsed": true
   },
   "outputs": [],
   "source": [
    "def get_num_prev_loans(user_id, disbursement_date):\n",
    "    loan_date = dt.strptime(disbursement_date,\"%Y-%m-%dT%H:%M:%S.%fZ\")\n",
    "    count_prev_loans = 0\n",
    "    smss = sms_logs[user_id]\n",
    "    for sms in smss:\n",
    "        if \"sms_address\" in sms and \"message_body\" in sms and \"datetime\" in sms:\n",
    "            if sms[\"sms_address\"] == \"Branch-Co\" and sms[\"message_body\"].startswith(\"Your Branch loan of\"):\n",
    "                sms_time = dt.fromtimestamp(float(sms[\"datetime\"])/1000)\n",
    "\n",
    "                if sms_time < loan_date:\n",
    "                    count_prev_loans += 1\n",
    "                    #print \"disbursement_date:\", disbursement_date\n",
    "                    #print \"->\", sms[\"message_body\"]\n",
    "                    #print \">\", sms_time\n",
    "        #else:\n",
    "            #print \"~~~ ERROR ~~~\"\n",
    "    return count_prev_loans"
   ]
  },
  {
   "cell_type": "code",
   "execution_count": 11,
   "metadata": {
    "collapsed": false,
    "scrolled": true
   },
   "outputs": [],
   "source": [
    "# This code here prints how many previous loans each user has\n",
    "#for user in user_status:\n",
    "    #print \"user\", str(user) + \":\", str(get_num_prev_loans(user, user_status[user][0])), \"loans\""
   ]
  },
  {
   "cell_type": "markdown",
   "metadata": {},
   "source": [
    "#### Some users have been awarded multiple loans (e.g. user 9 was awarded 12 loans), however, when we look at the time of these award sms messages, we see that they all happened before the current loan (i.e. the loan in the 'user_status.csv' file)\n",
    "#### Looking at the results above, there are some users that seem to have one previous loan. However, taking a closer look at them, we can see that the award messages were sent late at night the night before the disbursement date.\n",
    "#### This means that we are considering the users' first loans. This in turn means that not only can we not use previous loan information, but we also should disregard all messages (and calls) that happened after the disbursement date, which is in the future."
   ]
  },
  {
   "cell_type": "markdown",
   "metadata": {},
   "source": [
    "#### Let's remove those messages"
   ]
  },
  {
   "cell_type": "code",
   "execution_count": 12,
   "metadata": {
    "collapsed": true
   },
   "outputs": [],
   "source": [
    "def remove_user_post_disbursement_sms(user_id, disbursement_date):\n",
    "    loan_date = dt.strptime(disbursement_date,\"%Y-%m-%dT%H:%M:%S.%fZ\")\n",
    "    smss = sms_logs[user_id]\n",
    "    past_messages = []\n",
    "    for sms in smss:\n",
    "        if \"datetime\" in sms:\n",
    "            sms_time = dt.fromtimestamp(float(sms[\"datetime\"])/1000)\n",
    "            if sms_time < loan_date:   # keep this sms because it was received in the past\n",
    "                past_messages.append(sms)      \n",
    "    sms_logs[user_id] = past_messages"
   ]
  },
  {
   "cell_type": "code",
   "execution_count": 13,
   "metadata": {
    "collapsed": false
   },
   "outputs": [],
   "source": [
    "def remove_user_post_disbursement_calls(user_id, disbursement_date):\n",
    "    loan_date = dt.strptime(disbursement_date,\"%Y-%m-%dT%H:%M:%S.%fZ\")\n",
    "    calls = call_logs[user_id]\n",
    "    past_calls = []\n",
    "    for call in calls:\n",
    "        if \"datetime\" in call:\n",
    "            call_time = dt.fromtimestamp(float(call[\"datetime\"])/1000)\n",
    "            if call_time < loan_date:   # keep this call because it was received in the past\n",
    "                past_calls.append(call)          \n",
    "    call_logs[user_id] = past_calls"
   ]
  },
  {
   "cell_type": "code",
   "execution_count": 61,
   "metadata": {
    "collapsed": true
   },
   "outputs": [],
   "source": [
    "def get_num_bank_sms(user_id):\n",
    "    smss = sms_logs[user_id]\n",
    "    count_bank_sms = 0\n",
    "    for sms in smss:\n",
    "        if \"sms_address\" in sms and sms['sms_address'] == \"MPESA\":\n",
    "            count_bank_sms += 1\n",
    "#            print sms\n",
    "#    if count_bank_sms > 0:\n",
    "#        print count_bank_sms\n",
    "#    else:\n",
    "#        print \"No MPESA sms\" \n",
    "    return count_bank_sms"
   ]
  },
  {
   "cell_type": "code",
   "execution_count": 62,
   "metadata": {
    "collapsed": true
   },
   "outputs": [],
   "source": [
    "def get_num_bank_sms_rejections(user_id):\n",
    "    smss = sms_logs[user_id]\n",
    "    count_bank_sms = 0\n",
    "    for sms in smss:\n",
    "        if \"sms_address\" in sms and sms['sms_address'] == \"MPESA\" and \"Failed. You do not have enough money\" in sms['message_body']:\n",
    "            count_bank_sms += 1\n",
    "            #print sms\n",
    "#    if count_bank_sms > 0:\n",
    "#        print count_bank_sms\n",
    "#    else:\n",
    "#        print \"No MPESA sms\" \n",
    "    return count_bank_sms"
   ]
  },
  {
   "cell_type": "code",
   "execution_count": 63,
   "metadata": {
    "collapsed": false
   },
   "outputs": [],
   "source": [
    "def get_num_bank_sms_deposits(user_id):\n",
    "    smss = sms_logs[user_id]\n",
    "    count_bank_sms = 0\n",
    "    for sms in smss:\n",
    "        if \"sms_address\" in sms and sms['sms_address'] == \"MPESA\" and \"Confirmed.You have received Ksh\" in sms['message_body']:\n",
    "            count_bank_sms += 1\n",
    "#            print sms\n",
    "#    if count_bank_sms > 0:\n",
    "#        print count_bank_sms\n",
    "#    else:\n",
    "#        print \"No MPESA sms\" \n",
    "    return count_bank_sms"
   ]
  },
  {
   "cell_type": "code",
   "execution_count": 78,
   "metadata": {
    "collapsed": true
   },
   "outputs": [],
   "source": [
    "def get_num_account_sms(user_id):\n",
    "    smss = sms_logs[user_id]\n",
    "    count_bank_sms = 0\n",
    "    for sms in smss:\n",
    "        if \"message_body\" in sms and \"Ksh\" in sms['message_body']:\n",
    "            count_bank_sms += 1\n",
    "            print sms\n",
    "#    if count_bank_sms > 0:\n",
    "#        print count_bank_sms\n",
    "#    else:\n",
    "#        print \"No MPESA sms\" \n",
    "    return count_bank_sms"
   ]
  },
  {
   "cell_type": "markdown",
   "metadata": {},
   "source": [
    "#### Let's look at some of the bank related messages to see what they're about."
   ]
  },
  {
   "cell_type": "code",
   "execution_count": 79,
   "metadata": {
    "collapsed": false
   },
   "outputs": [
    {
     "name": "stdout",
     "output_type": "stream",
     "text": [
      "{u'message_body': u'Your Branch loan of Ksh 1,000 has been sent! Your first repayment is due in 7 days to Paybill: 998608, Account: +254728798421. If you like Branch, we would appreciate a 5-star review in Google Play: http://bit.ly/branch_co ', u'sms_address': u'Branch-Co', u'sms_type': 1, u'contact_id': 0, u'datetime': 1496031910678, u'thread_id': 40, u'item_id': 102}\n",
      "{u'message_body': u'LET944A3NZ Confirmed.You have received Ksh1,000.00 from BRANCH INTERNATIONAL BULK 998609 on 29/5/17 at 7:23 AM New M-PESA balance is Ksh1,013.00.  Buy goods with M-PESA.', u'sms_address': u'MPESA', u'sms_type': 1, u'contact_id': 0, u'datetime': 1496031727704, u'thread_id': 31, u'item_id': 101}\n",
      "{u'message_body': u'LER93RV8ZF Confirmed. Ksh8.00 sent to Safaricom Offers  for account Tunukiwa on 27/5/17 at 10:43 PM New M-PESA balance is Ksh13.00. Transaction cost, Ksh0.00.', u'sms_address': u'MPESA', u'sms_type': 1, u'contact_id': 0, u'datetime': 1495914152535, u'thread_id': 31, u'item_id': 89}\n",
      "{u'message_body': u'LER13OV80Z confirmed.You bought Ksh25.00 of airtime on 27/5/17 at 6:40 PM.New M-PESA balance is Ksh21.00. Transaction cost, Ksh0.00.', u'sms_address': u'MPESA', u'sms_type': 1, u'contact_id': 0, u'datetime': 1495899586630, u'thread_id': 31, u'item_id': 83}\n",
      "{u'message_body': u'You received Ksh 50 in your S-PESA account. Your S-PESA balance is Ksh 50.', u'sms_address': u'79079', u'sms_type': 1, u'contact_id': 0, u'datetime': 1495898761176, u'thread_id': 37, u'item_id': 80}\n",
      "{u'message_body': u'LER93OD2X9 Confirmed. Ksh50.00 sent to SportPesa  for account spesa on 27/5/17 at 6:11 PM New M-PESA balance is Ksh46.00. Transaction cost, Ksh5.00.', u'sms_address': u'MPESA', u'sms_type': 1, u'contact_id': 0, u'datetime': 1495897862520, u'thread_id': 31, u'item_id': 79}\n",
      "{u'message_body': u'Failed. You do not have enough money in your M-PESA account to pay Ksh100.00 to SportPesa.Your M-PESA balance is Ksh101.00.', u'sms_address': u'MPESA', u'sms_type': 1, u'contact_id': 0, u'datetime': 1495897563242, u'thread_id': 31, u'item_id': 78}\n",
      "{u'message_body': u'LER43O1B82 Confirmed. On 27/5/17 at 5:52 PM Give Ksh100.00 cash to Mericom Global Connections Buxton Mombasa New M-PESA balance is Ksh101.00. Dial *234*1# to manage your bills.', u'sms_address': u'MPESA', u'sms_type': 1, u'contact_id': 0, u'datetime': 1495896716228, u'thread_id': 31, u'item_id': 77}\n"
     ]
    },
    {
     "data": {
      "text/plain": [
       "8"
      ]
     },
     "execution_count": 79,
     "metadata": {},
     "output_type": "execute_result"
    }
   ],
   "source": [
    "get_num_account_sms(1)"
   ]
  },
  {
   "cell_type": "code",
   "execution_count": 14,
   "metadata": {
    "collapsed": false
   },
   "outputs": [],
   "source": [
    "for user in range(1, NUM_USERS+1):\n",
    "    remove_user_post_disbursement_sms(user, user_status[user][0])\n",
    "    remove_user_post_disbursement_calls(user, user_status[user][0])"
   ]
  },
  {
   "cell_type": "markdown",
   "metadata": {},
   "source": [
    "#### Let's update our user stats to reflect only data collected before they were awarded the loan"
   ]
  },
  {
   "cell_type": "code",
   "execution_count": 64,
   "metadata": {
    "collapsed": false,
    "scrolled": true
   },
   "outputs": [],
   "source": [
    "user_data[\"num_calls\"] = []\n",
    "user_data[\"num_contacts\"] = []\n",
    "user_data[\"num_sms\"] = []\n",
    "user_data[\"user_id\"] = []\n",
    "user_data[\"num_bank_sms\"] = []\n",
    "user_data[\"num_bank_sms_rejections\"] = []\n",
    "user_data[\"num_bank_sms_deposits\"] = []\n",
    "for user_id in range(1, NUM_USERS+1):\n",
    "    user_data[\"user_id\"].append(user_id)\n",
    "    user_data[\"num_calls\"].append(len(call_logs[user_id]))\n",
    "    user_data[\"num_contacts\"].append(len(contact_lists[user_id]))\n",
    "    user_data[\"num_sms\"].append(len(sms_logs[user_id]))\n",
    "    user_data[\"num_bank_sms\"].append(get_num_bank_sms(user_id))\n",
    "    user_data[\"num_bank_sms_rejections\"].append(get_num_bank_sms_rejections(user_id))\n",
    "    user_data[\"num_bank_sms_deposits\"].append(get_num_bank_sms_deposits(user_id))"
   ]
  },
  {
   "cell_type": "code",
   "execution_count": 65,
   "metadata": {
    "collapsed": false
   },
   "outputs": [
    {
     "data": {
      "text/html": [
       "<div>\n",
       "<style scoped>\n",
       "    .dataframe tbody tr th:only-of-type {\n",
       "        vertical-align: middle;\n",
       "    }\n",
       "\n",
       "    .dataframe tbody tr th {\n",
       "        vertical-align: top;\n",
       "    }\n",
       "\n",
       "    .dataframe thead th {\n",
       "        text-align: right;\n",
       "    }\n",
       "</style>\n",
       "<table border=\"1\" class=\"dataframe\">\n",
       "  <thead>\n",
       "    <tr style=\"text-align: right;\">\n",
       "      <th></th>\n",
       "      <th>num_bank_sms</th>\n",
       "      <th>num_bank_sms_deposits</th>\n",
       "      <th>num_bank_sms_rejections</th>\n",
       "      <th>num_calls</th>\n",
       "      <th>num_contacts</th>\n",
       "      <th>num_devices</th>\n",
       "      <th>num_sms</th>\n",
       "      <th>user_id</th>\n",
       "    </tr>\n",
       "  </thead>\n",
       "  <tbody>\n",
       "    <tr>\n",
       "      <th>0</th>\n",
       "      <td>7</td>\n",
       "      <td>1</td>\n",
       "      <td>1</td>\n",
       "      <td>129</td>\n",
       "      <td>246</td>\n",
       "      <td>1</td>\n",
       "      <td>43</td>\n",
       "      <td>1</td>\n",
       "    </tr>\n",
       "    <tr>\n",
       "      <th>1</th>\n",
       "      <td>0</td>\n",
       "      <td>0</td>\n",
       "      <td>0</td>\n",
       "      <td>146</td>\n",
       "      <td>88</td>\n",
       "      <td>1</td>\n",
       "      <td>50</td>\n",
       "      <td>2</td>\n",
       "    </tr>\n",
       "    <tr>\n",
       "      <th>2</th>\n",
       "      <td>0</td>\n",
       "      <td>0</td>\n",
       "      <td>0</td>\n",
       "      <td>262</td>\n",
       "      <td>200</td>\n",
       "      <td>1</td>\n",
       "      <td>63</td>\n",
       "      <td>3</td>\n",
       "    </tr>\n",
       "    <tr>\n",
       "      <th>3</th>\n",
       "      <td>10</td>\n",
       "      <td>3</td>\n",
       "      <td>1</td>\n",
       "      <td>500</td>\n",
       "      <td>711</td>\n",
       "      <td>1</td>\n",
       "      <td>3371</td>\n",
       "      <td>4</td>\n",
       "    </tr>\n",
       "    <tr>\n",
       "      <th>4</th>\n",
       "      <td>5</td>\n",
       "      <td>2</td>\n",
       "      <td>0</td>\n",
       "      <td>452</td>\n",
       "      <td>128</td>\n",
       "      <td>1</td>\n",
       "      <td>118</td>\n",
       "      <td>5</td>\n",
       "    </tr>\n",
       "  </tbody>\n",
       "</table>\n",
       "</div>"
      ],
      "text/plain": [
       "   num_bank_sms  num_bank_sms_deposits  num_bank_sms_rejections  num_calls  \\\n",
       "0             7                      1                        1        129   \n",
       "1             0                      0                        0        146   \n",
       "2             0                      0                        0        262   \n",
       "3            10                      3                        1        500   \n",
       "4             5                      2                        0        452   \n",
       "\n",
       "   num_contacts  num_devices  num_sms  user_id  \n",
       "0           246            1       43        1  \n",
       "1            88            1       50        2  \n",
       "2           200            1       63        3  \n",
       "3           711            1     3371        4  \n",
       "4           128            1      118        5  "
      ]
     },
     "execution_count": 65,
     "metadata": {},
     "output_type": "execute_result"
    }
   ],
   "source": [
    "user_data_df = pd.DataFrame(data=user_data)\n",
    "user_data_df.head()"
   ]
  },
  {
   "cell_type": "code",
   "execution_count": 66,
   "metadata": {
    "collapsed": false
   },
   "outputs": [
    {
     "data": {
      "text/html": [
       "<div>\n",
       "<style scoped>\n",
       "    .dataframe tbody tr th:only-of-type {\n",
       "        vertical-align: middle;\n",
       "    }\n",
       "\n",
       "    .dataframe tbody tr th {\n",
       "        vertical-align: top;\n",
       "    }\n",
       "\n",
       "    .dataframe thead th {\n",
       "        text-align: right;\n",
       "    }\n",
       "</style>\n",
       "<table border=\"1\" class=\"dataframe\">\n",
       "  <thead>\n",
       "    <tr style=\"text-align: right;\">\n",
       "      <th></th>\n",
       "      <th>num_calls</th>\n",
       "      <th>num_contacts</th>\n",
       "      <th>num_sms</th>\n",
       "      <th>num_devices</th>\n",
       "      <th>num_bank_sms</th>\n",
       "      <th>num_bank_sms_deposits</th>\n",
       "      <th>num_bank_sms_rejections</th>\n",
       "    </tr>\n",
       "  </thead>\n",
       "  <tbody>\n",
       "    <tr>\n",
       "      <th>count</th>\n",
       "      <td>400.0000</td>\n",
       "      <td>400.000000</td>\n",
       "      <td>400.000000</td>\n",
       "      <td>400.000000</td>\n",
       "      <td>400.000000</td>\n",
       "      <td>400.000000</td>\n",
       "      <td>400.000000</td>\n",
       "    </tr>\n",
       "    <tr>\n",
       "      <th>mean</th>\n",
       "      <td>424.5675</td>\n",
       "      <td>573.585000</td>\n",
       "      <td>1677.120000</td>\n",
       "      <td>1.255000</td>\n",
       "      <td>77.282500</td>\n",
       "      <td>10.742500</td>\n",
       "      <td>0.920000</td>\n",
       "    </tr>\n",
       "    <tr>\n",
       "      <th>std</th>\n",
       "      <td>301.5269</td>\n",
       "      <td>1027.860431</td>\n",
       "      <td>4370.563639</td>\n",
       "      <td>0.718516</td>\n",
       "      <td>173.114773</td>\n",
       "      <td>25.914767</td>\n",
       "      <td>2.671412</td>\n",
       "    </tr>\n",
       "    <tr>\n",
       "      <th>min</th>\n",
       "      <td>0.0000</td>\n",
       "      <td>14.000000</td>\n",
       "      <td>0.000000</td>\n",
       "      <td>1.000000</td>\n",
       "      <td>0.000000</td>\n",
       "      <td>0.000000</td>\n",
       "      <td>0.000000</td>\n",
       "    </tr>\n",
       "    <tr>\n",
       "      <th>25%</th>\n",
       "      <td>202.2500</td>\n",
       "      <td>209.000000</td>\n",
       "      <td>70.000000</td>\n",
       "      <td>1.000000</td>\n",
       "      <td>0.000000</td>\n",
       "      <td>0.000000</td>\n",
       "      <td>0.000000</td>\n",
       "    </tr>\n",
       "    <tr>\n",
       "      <th>50%</th>\n",
       "      <td>493.0000</td>\n",
       "      <td>344.500000</td>\n",
       "      <td>423.500000</td>\n",
       "      <td>1.000000</td>\n",
       "      <td>7.000000</td>\n",
       "      <td>1.000000</td>\n",
       "      <td>0.000000</td>\n",
       "    </tr>\n",
       "    <tr>\n",
       "      <th>75%</th>\n",
       "      <td>502.0000</td>\n",
       "      <td>594.750000</td>\n",
       "      <td>1594.000000</td>\n",
       "      <td>1.000000</td>\n",
       "      <td>63.000000</td>\n",
       "      <td>8.000000</td>\n",
       "      <td>0.250000</td>\n",
       "    </tr>\n",
       "    <tr>\n",
       "      <th>max</th>\n",
       "      <td>2161.0000</td>\n",
       "      <td>13850.000000</td>\n",
       "      <td>68486.000000</td>\n",
       "      <td>7.000000</td>\n",
       "      <td>1318.000000</td>\n",
       "      <td>237.000000</td>\n",
       "      <td>23.000000</td>\n",
       "    </tr>\n",
       "  </tbody>\n",
       "</table>\n",
       "</div>"
      ],
      "text/plain": [
       "       num_calls  num_contacts       num_sms  num_devices  num_bank_sms  \\\n",
       "count   400.0000    400.000000    400.000000   400.000000    400.000000   \n",
       "mean    424.5675    573.585000   1677.120000     1.255000     77.282500   \n",
       "std     301.5269   1027.860431   4370.563639     0.718516    173.114773   \n",
       "min       0.0000     14.000000      0.000000     1.000000      0.000000   \n",
       "25%     202.2500    209.000000     70.000000     1.000000      0.000000   \n",
       "50%     493.0000    344.500000    423.500000     1.000000      7.000000   \n",
       "75%     502.0000    594.750000   1594.000000     1.000000     63.000000   \n",
       "max    2161.0000  13850.000000  68486.000000     7.000000   1318.000000   \n",
       "\n",
       "       num_bank_sms_deposits  num_bank_sms_rejections  \n",
       "count             400.000000               400.000000  \n",
       "mean               10.742500                 0.920000  \n",
       "std                25.914767                 2.671412  \n",
       "min                 0.000000                 0.000000  \n",
       "25%                 0.000000                 0.000000  \n",
       "50%                 1.000000                 0.000000  \n",
       "75%                 8.000000                 0.250000  \n",
       "max               237.000000                23.000000  "
      ]
     },
     "execution_count": 66,
     "metadata": {},
     "output_type": "execute_result"
    }
   ],
   "source": [
    "user_data_df[['num_calls','num_contacts','num_sms','num_devices','num_bank_sms','num_bank_sms_deposits','num_bank_sms_rejections']].describe()"
   ]
  },
  {
   "cell_type": "code",
   "execution_count": 68,
   "metadata": {
    "collapsed": false
   },
   "outputs": [
    {
     "data": {
      "image/png": "[encoded data removed]",
      "text/plain": [
       "<matplotlib.figure.Figure at 0x7f77d133e210>"
      ]
     },
     "metadata": {},
     "output_type": "display_data"
    }
   ],
   "source": [
    "user_data_df[['num_calls','num_contacts','num_sms','num_devices']].hist()\n",
    "pl.show()"
   ]
  },
  {
   "cell_type": "code",
   "execution_count": 69,
   "metadata": {
    "collapsed": false
   },
   "outputs": [
    {
     "data": {
      "image/png": "[encoded data removed]",
      "text/plain": [
       "<matplotlib.figure.Figure at 0x7f77becfea90>"
      ]
     },
     "metadata": {},
     "output_type": "display_data"
    }
   ],
   "source": [
    "user_data_df[['num_bank_sms','num_bank_sms_deposits','num_bank_sms_rejections']].hist()\n",
    "pl.show()"
   ]
  },
  {
   "cell_type": "markdown",
   "metadata": {},
   "source": [
    "#### Let's turn user_status into a dataframe"
   ]
  },
  {
   "cell_type": "code",
   "execution_count": 70,
   "metadata": {
    "collapsed": false
   },
   "outputs": [
    {
     "data": {
      "text/html": [
       "<div>\n",
       "<style scoped>\n",
       "    .dataframe tbody tr th:only-of-type {\n",
       "        vertical-align: middle;\n",
       "    }\n",
       "\n",
       "    .dataframe tbody tr th {\n",
       "        vertical-align: top;\n",
       "    }\n",
       "\n",
       "    .dataframe thead th {\n",
       "        text-align: right;\n",
       "    }\n",
       "</style>\n",
       "<table border=\"1\" class=\"dataframe\">\n",
       "  <thead>\n",
       "    <tr style=\"text-align: right;\">\n",
       "      <th></th>\n",
       "      <th>num_bank_sms</th>\n",
       "      <th>num_bank_sms_deposits</th>\n",
       "      <th>num_bank_sms_rejections</th>\n",
       "      <th>num_calls</th>\n",
       "      <th>num_contacts</th>\n",
       "      <th>num_devices</th>\n",
       "      <th>num_sms</th>\n",
       "      <th>user_id</th>\n",
       "    </tr>\n",
       "  </thead>\n",
       "  <tbody>\n",
       "    <tr>\n",
       "      <th>0</th>\n",
       "      <td>7</td>\n",
       "      <td>1</td>\n",
       "      <td>1</td>\n",
       "      <td>129</td>\n",
       "      <td>246</td>\n",
       "      <td>1</td>\n",
       "      <td>43</td>\n",
       "      <td>1</td>\n",
       "    </tr>\n",
       "    <tr>\n",
       "      <th>1</th>\n",
       "      <td>0</td>\n",
       "      <td>0</td>\n",
       "      <td>0</td>\n",
       "      <td>146</td>\n",
       "      <td>88</td>\n",
       "      <td>1</td>\n",
       "      <td>50</td>\n",
       "      <td>2</td>\n",
       "    </tr>\n",
       "    <tr>\n",
       "      <th>2</th>\n",
       "      <td>0</td>\n",
       "      <td>0</td>\n",
       "      <td>0</td>\n",
       "      <td>262</td>\n",
       "      <td>200</td>\n",
       "      <td>1</td>\n",
       "      <td>63</td>\n",
       "      <td>3</td>\n",
       "    </tr>\n",
       "    <tr>\n",
       "      <th>3</th>\n",
       "      <td>10</td>\n",
       "      <td>3</td>\n",
       "      <td>1</td>\n",
       "      <td>500</td>\n",
       "      <td>711</td>\n",
       "      <td>1</td>\n",
       "      <td>3371</td>\n",
       "      <td>4</td>\n",
       "    </tr>\n",
       "    <tr>\n",
       "      <th>4</th>\n",
       "      <td>5</td>\n",
       "      <td>2</td>\n",
       "      <td>0</td>\n",
       "      <td>452</td>\n",
       "      <td>128</td>\n",
       "      <td>1</td>\n",
       "      <td>118</td>\n",
       "      <td>5</td>\n",
       "    </tr>\n",
       "  </tbody>\n",
       "</table>\n",
       "</div>"
      ],
      "text/plain": [
       "   num_bank_sms  num_bank_sms_deposits  num_bank_sms_rejections  num_calls  \\\n",
       "0             7                      1                        1        129   \n",
       "1             0                      0                        0        146   \n",
       "2             0                      0                        0        262   \n",
       "3            10                      3                        1        500   \n",
       "4             5                      2                        0        452   \n",
       "\n",
       "   num_contacts  num_devices  num_sms  user_id  \n",
       "0           246            1       43        1  \n",
       "1            88            1       50        2  \n",
       "2           200            1       63        3  \n",
       "3           711            1     3371        4  \n",
       "4           128            1      118        5  "
      ]
     },
     "execution_count": 70,
     "metadata": {},
     "output_type": "execute_result"
    }
   ],
   "source": [
    "user_status_df = pd.DataFrame(data=user_status).T\n",
    "user_status_df.rename(columns={0: 'disbursement_date', 1: 'status'}, inplace=True)\n",
    "user_status_df = user_status_df.assign(user_id = pd.Series(range(0,NUM_USERS+1)))\n",
    "user_data_df.head()"
   ]
  },
  {
   "cell_type": "code",
   "execution_count": null,
   "metadata": {
    "collapsed": false
   },
   "outputs": [],
   "source": []
  },
  {
   "cell_type": "code",
   "execution_count": null,
   "metadata": {
    "collapsed": false
   },
   "outputs": [],
   "source": []
  },
  {
   "cell_type": "markdown",
   "metadata": {},
   "source": [
    "#### Now we want to calculate correlations between the features and the status. For that, we will join the two dataframes and turn status into a dummy (binary variable).  "
   ]
  },
  {
   "cell_type": "code",
   "execution_count": 71,
   "metadata": {
    "collapsed": false
   },
   "outputs": [
    {
     "data": {
      "text/html": [
       "<div>\n",
       "<style scoped>\n",
       "    .dataframe tbody tr th:only-of-type {\n",
       "        vertical-align: middle;\n",
       "    }\n",
       "\n",
       "    .dataframe tbody tr th {\n",
       "        vertical-align: top;\n",
       "    }\n",
       "\n",
       "    .dataframe thead th {\n",
       "        text-align: right;\n",
       "    }\n",
       "</style>\n",
       "<table border=\"1\" class=\"dataframe\">\n",
       "  <thead>\n",
       "    <tr style=\"text-align: right;\">\n",
       "      <th></th>\n",
       "      <th>disbursement_date</th>\n",
       "      <th>status</th>\n",
       "      <th>num_bank_sms</th>\n",
       "      <th>num_bank_sms_deposits</th>\n",
       "      <th>num_bank_sms_rejections</th>\n",
       "      <th>num_calls</th>\n",
       "      <th>num_contacts</th>\n",
       "      <th>num_devices</th>\n",
       "      <th>num_sms</th>\n",
       "    </tr>\n",
       "    <tr>\n",
       "      <th>user_id</th>\n",
       "      <th></th>\n",
       "      <th></th>\n",
       "      <th></th>\n",
       "      <th></th>\n",
       "      <th></th>\n",
       "      <th></th>\n",
       "      <th></th>\n",
       "      <th></th>\n",
       "      <th></th>\n",
       "    </tr>\n",
       "  </thead>\n",
       "  <tbody>\n",
       "    <tr>\n",
       "      <th>1</th>\n",
       "      <td>2017-05-29T00:00:00.000Z</td>\n",
       "      <td>defaulted</td>\n",
       "      <td>7</td>\n",
       "      <td>1</td>\n",
       "      <td>1</td>\n",
       "      <td>129</td>\n",
       "      <td>246</td>\n",
       "      <td>1</td>\n",
       "      <td>43</td>\n",
       "    </tr>\n",
       "    <tr>\n",
       "      <th>2</th>\n",
       "      <td>2017-05-30T00:00:00.000Z</td>\n",
       "      <td>repaid</td>\n",
       "      <td>0</td>\n",
       "      <td>0</td>\n",
       "      <td>0</td>\n",
       "      <td>146</td>\n",
       "      <td>88</td>\n",
       "      <td>1</td>\n",
       "      <td>50</td>\n",
       "    </tr>\n",
       "    <tr>\n",
       "      <th>3</th>\n",
       "      <td>2017-05-26T00:00:00.000Z</td>\n",
       "      <td>defaulted</td>\n",
       "      <td>0</td>\n",
       "      <td>0</td>\n",
       "      <td>0</td>\n",
       "      <td>262</td>\n",
       "      <td>200</td>\n",
       "      <td>1</td>\n",
       "      <td>63</td>\n",
       "    </tr>\n",
       "    <tr>\n",
       "      <th>4</th>\n",
       "      <td>2017-05-31T00:00:00.000Z</td>\n",
       "      <td>repaid</td>\n",
       "      <td>10</td>\n",
       "      <td>3</td>\n",
       "      <td>1</td>\n",
       "      <td>500</td>\n",
       "      <td>711</td>\n",
       "      <td>1</td>\n",
       "      <td>3371</td>\n",
       "    </tr>\n",
       "    <tr>\n",
       "      <th>5</th>\n",
       "      <td>2017-05-30T00:00:00.000Z</td>\n",
       "      <td>repaid</td>\n",
       "      <td>5</td>\n",
       "      <td>2</td>\n",
       "      <td>0</td>\n",
       "      <td>452</td>\n",
       "      <td>128</td>\n",
       "      <td>1</td>\n",
       "      <td>118</td>\n",
       "    </tr>\n",
       "  </tbody>\n",
       "</table>\n",
       "</div>"
      ],
      "text/plain": [
       "                disbursement_date     status  num_bank_sms  \\\n",
       "user_id                                                      \n",
       "1        2017-05-29T00:00:00.000Z  defaulted             7   \n",
       "2        2017-05-30T00:00:00.000Z     repaid             0   \n",
       "3        2017-05-26T00:00:00.000Z  defaulted             0   \n",
       "4        2017-05-31T00:00:00.000Z     repaid            10   \n",
       "5        2017-05-30T00:00:00.000Z     repaid             5   \n",
       "\n",
       "         num_bank_sms_deposits  num_bank_sms_rejections  num_calls  \\\n",
       "user_id                                                              \n",
       "1                            1                        1        129   \n",
       "2                            0                        0        146   \n",
       "3                            0                        0        262   \n",
       "4                            3                        1        500   \n",
       "5                            2                        0        452   \n",
       "\n",
       "         num_contacts  num_devices  num_sms  \n",
       "user_id                                      \n",
       "1                 246            1       43  \n",
       "2                  88            1       50  \n",
       "3                 200            1       63  \n",
       "4                 711            1     3371  \n",
       "5                 128            1      118  "
      ]
     },
     "execution_count": 71,
     "metadata": {},
     "output_type": "execute_result"
    }
   ],
   "source": [
    "df = user_status_df.set_index('user_id').join(user_data_df.set_index('user_id'))\n",
    "df.head()"
   ]
  },
  {
   "cell_type": "code",
   "execution_count": 72,
   "metadata": {
    "collapsed": false
   },
   "outputs": [],
   "source": [
    "df = pd.get_dummies(df, columns=[\"status\"])\n",
    "df = df.drop(columns=['status_defaulted'])"
   ]
  },
  {
   "cell_type": "code",
   "execution_count": 73,
   "metadata": {
    "collapsed": true
   },
   "outputs": [],
   "source": [
    "def is_greater_than_percentile(row, column, percentile):\n",
    "    if column == \"contacts\":\n",
    "        if row[\"num_contacts\"] > percentile:\n",
    "            return 1\n",
    "        else:\n",
    "            return 0\n",
    "    elif column == \"calls\":\n",
    "        if row[\"num_calls\"] > percentile:\n",
    "            return 1\n",
    "        else:\n",
    "            return 0\n",
    "    elif column == \"sms\":\n",
    "        if row[\"num_sms\"] > percentile:\n",
    "            return 1\n",
    "        else:\n",
    "            return 0"
   ]
  },
  {
   "cell_type": "code",
   "execution_count": 74,
   "metadata": {
    "collapsed": false
   },
   "outputs": [
    {
     "data": {
      "text/html": [
       "<div>\n",
       "<style scoped>\n",
       "    .dataframe tbody tr th:only-of-type {\n",
       "        vertical-align: middle;\n",
       "    }\n",
       "\n",
       "    .dataframe tbody tr th {\n",
       "        vertical-align: top;\n",
       "    }\n",
       "\n",
       "    .dataframe thead th {\n",
       "        text-align: right;\n",
       "    }\n",
       "</style>\n",
       "<table border=\"1\" class=\"dataframe\">\n",
       "  <thead>\n",
       "    <tr style=\"text-align: right;\">\n",
       "      <th></th>\n",
       "      <th>disbursement_date</th>\n",
       "      <th>num_bank_sms</th>\n",
       "      <th>num_bank_sms_deposits</th>\n",
       "      <th>num_bank_sms_rejections</th>\n",
       "      <th>num_calls</th>\n",
       "      <th>num_contacts</th>\n",
       "      <th>num_devices</th>\n",
       "      <th>num_sms</th>\n",
       "      <th>status_repaid</th>\n",
       "      <th>num_contacts_gt_25_percentile</th>\n",
       "      <th>num_contacts_gt_50_percentile</th>\n",
       "      <th>num_contacts_gt_75_percentile</th>\n",
       "      <th>num_calls_gt_25_percentile</th>\n",
       "      <th>num_calls_gt_50_percentile</th>\n",
       "      <th>num_calls_gt_75_percentile</th>\n",
       "      <th>num_sms_gt_25_percentile</th>\n",
       "      <th>num_sms_gt_50_percentile</th>\n",
       "      <th>num_sms_gt_75_percentile</th>\n",
       "    </tr>\n",
       "    <tr>\n",
       "      <th>user_id</th>\n",
       "      <th></th>\n",
       "      <th></th>\n",
       "      <th></th>\n",
       "      <th></th>\n",
       "      <th></th>\n",
       "      <th></th>\n",
       "      <th></th>\n",
       "      <th></th>\n",
       "      <th></th>\n",
       "      <th></th>\n",
       "      <th></th>\n",
       "      <th></th>\n",
       "      <th></th>\n",
       "      <th></th>\n",
       "      <th></th>\n",
       "      <th></th>\n",
       "      <th></th>\n",
       "      <th></th>\n",
       "    </tr>\n",
       "  </thead>\n",
       "  <tbody>\n",
       "    <tr>\n",
       "      <th>1</th>\n",
       "      <td>2017-05-29T00:00:00.000Z</td>\n",
       "      <td>7</td>\n",
       "      <td>1</td>\n",
       "      <td>1</td>\n",
       "      <td>129</td>\n",
       "      <td>246</td>\n",
       "      <td>1</td>\n",
       "      <td>43</td>\n",
       "      <td>0</td>\n",
       "      <td>1</td>\n",
       "      <td>0</td>\n",
       "      <td>0</td>\n",
       "      <td>0</td>\n",
       "      <td>0</td>\n",
       "      <td>0</td>\n",
       "      <td>0</td>\n",
       "      <td>0</td>\n",
       "      <td>0</td>\n",
       "    </tr>\n",
       "    <tr>\n",
       "      <th>2</th>\n",
       "      <td>2017-05-30T00:00:00.000Z</td>\n",
       "      <td>0</td>\n",
       "      <td>0</td>\n",
       "      <td>0</td>\n",
       "      <td>146</td>\n",
       "      <td>88</td>\n",
       "      <td>1</td>\n",
       "      <td>50</td>\n",
       "      <td>1</td>\n",
       "      <td>0</td>\n",
       "      <td>0</td>\n",
       "      <td>0</td>\n",
       "      <td>0</td>\n",
       "      <td>0</td>\n",
       "      <td>0</td>\n",
       "      <td>0</td>\n",
       "      <td>0</td>\n",
       "      <td>0</td>\n",
       "    </tr>\n",
       "    <tr>\n",
       "      <th>3</th>\n",
       "      <td>2017-05-26T00:00:00.000Z</td>\n",
       "      <td>0</td>\n",
       "      <td>0</td>\n",
       "      <td>0</td>\n",
       "      <td>262</td>\n",
       "      <td>200</td>\n",
       "      <td>1</td>\n",
       "      <td>63</td>\n",
       "      <td>0</td>\n",
       "      <td>0</td>\n",
       "      <td>0</td>\n",
       "      <td>0</td>\n",
       "      <td>1</td>\n",
       "      <td>0</td>\n",
       "      <td>0</td>\n",
       "      <td>0</td>\n",
       "      <td>0</td>\n",
       "      <td>0</td>\n",
       "    </tr>\n",
       "    <tr>\n",
       "      <th>4</th>\n",
       "      <td>2017-05-31T00:00:00.000Z</td>\n",
       "      <td>10</td>\n",
       "      <td>3</td>\n",
       "      <td>1</td>\n",
       "      <td>500</td>\n",
       "      <td>711</td>\n",
       "      <td>1</td>\n",
       "      <td>3371</td>\n",
       "      <td>1</td>\n",
       "      <td>1</td>\n",
       "      <td>1</td>\n",
       "      <td>1</td>\n",
       "      <td>1</td>\n",
       "      <td>1</td>\n",
       "      <td>0</td>\n",
       "      <td>1</td>\n",
       "      <td>1</td>\n",
       "      <td>1</td>\n",
       "    </tr>\n",
       "    <tr>\n",
       "      <th>5</th>\n",
       "      <td>2017-05-30T00:00:00.000Z</td>\n",
       "      <td>5</td>\n",
       "      <td>2</td>\n",
       "      <td>0</td>\n",
       "      <td>452</td>\n",
       "      <td>128</td>\n",
       "      <td>1</td>\n",
       "      <td>118</td>\n",
       "      <td>1</td>\n",
       "      <td>0</td>\n",
       "      <td>0</td>\n",
       "      <td>0</td>\n",
       "      <td>1</td>\n",
       "      <td>0</td>\n",
       "      <td>0</td>\n",
       "      <td>1</td>\n",
       "      <td>0</td>\n",
       "      <td>0</td>\n",
       "    </tr>\n",
       "  </tbody>\n",
       "</table>\n",
       "</div>"
      ],
      "text/plain": [
       "                disbursement_date  num_bank_sms  num_bank_sms_deposits  \\\n",
       "user_id                                                                  \n",
       "1        2017-05-29T00:00:00.000Z             7                      1   \n",
       "2        2017-05-30T00:00:00.000Z             0                      0   \n",
       "3        2017-05-26T00:00:00.000Z             0                      0   \n",
       "4        2017-05-31T00:00:00.000Z            10                      3   \n",
       "5        2017-05-30T00:00:00.000Z             5                      2   \n",
       "\n",
       "         num_bank_sms_rejections  num_calls  num_contacts  num_devices  \\\n",
       "user_id                                                                  \n",
       "1                              1        129           246            1   \n",
       "2                              0        146            88            1   \n",
       "3                              0        262           200            1   \n",
       "4                              1        500           711            1   \n",
       "5                              0        452           128            1   \n",
       "\n",
       "         num_sms  status_repaid  num_contacts_gt_25_percentile  \\\n",
       "user_id                                                          \n",
       "1             43              0                              1   \n",
       "2             50              1                              0   \n",
       "3             63              0                              0   \n",
       "4           3371              1                              1   \n",
       "5            118              1                              0   \n",
       "\n",
       "         num_contacts_gt_50_percentile  num_contacts_gt_75_percentile  \\\n",
       "user_id                                                                 \n",
       "1                                    0                              0   \n",
       "2                                    0                              0   \n",
       "3                                    0                              0   \n",
       "4                                    1                              1   \n",
       "5                                    0                              0   \n",
       "\n",
       "         num_calls_gt_25_percentile  num_calls_gt_50_percentile  \\\n",
       "user_id                                                           \n",
       "1                                 0                           0   \n",
       "2                                 0                           0   \n",
       "3                                 1                           0   \n",
       "4                                 1                           1   \n",
       "5                                 1                           0   \n",
       "\n",
       "         num_calls_gt_75_percentile  num_sms_gt_25_percentile  \\\n",
       "user_id                                                         \n",
       "1                                 0                         0   \n",
       "2                                 0                         0   \n",
       "3                                 0                         0   \n",
       "4                                 0                         1   \n",
       "5                                 0                         1   \n",
       "\n",
       "         num_sms_gt_50_percentile  num_sms_gt_75_percentile  \n",
       "user_id                                                      \n",
       "1                               0                         0  \n",
       "2                               0                         0  \n",
       "3                               0                         0  \n",
       "4                               1                         1  \n",
       "5                               0                         0  "
      ]
     },
     "execution_count": 74,
     "metadata": {},
     "output_type": "execute_result"
    }
   ],
   "source": [
    "df[\"num_contacts_gt_25_percentile\"] = df.apply(is_greater_than_percentile, axis=1, args=(\"contacts\", df[['num_contacts']].quantile(0.25)[0],))\n",
    "df[\"num_contacts_gt_50_percentile\"] = df.apply(is_greater_than_percentile, axis=1, args=(\"contacts\", df[['num_contacts']].quantile(0.5)[0],))\n",
    "df[\"num_contacts_gt_75_percentile\"] = df.apply(is_greater_than_percentile, axis=1, args=(\"contacts\", df[['num_contacts']].quantile(0.75)[0],))\n",
    "\n",
    "df[\"num_calls_gt_25_percentile\"] = df.apply(is_greater_than_percentile, axis=1, args=(\"calls\", df[['num_calls']].quantile(0.25)[0],))\n",
    "df[\"num_calls_gt_50_percentile\"] = df.apply(is_greater_than_percentile, axis=1, args=(\"calls\", df[['num_calls']].quantile(0.5)[0],))\n",
    "df[\"num_calls_gt_75_percentile\"] = df.apply(is_greater_than_percentile, axis=1, args=(\"calls\", df[['num_calls']].quantile(0.75)[0],))\n",
    "\n",
    "df[\"num_sms_gt_25_percentile\"] = df.apply(is_greater_than_percentile, axis=1, args=(\"sms\", df[['num_sms']].quantile(0.25)[0],))\n",
    "df[\"num_sms_gt_50_percentile\"] = df.apply(is_greater_than_percentile, axis=1, args=(\"sms\", df[['num_sms']].quantile(0.5)[0],))\n",
    "df[\"num_sms_gt_75_percentile\"] = df.apply(is_greater_than_percentile, axis=1, args=(\"sms\", df[['num_sms']].quantile(0.75)[0],))\n",
    "\n",
    "df.head()"
   ]
  },
  {
   "cell_type": "code",
   "execution_count": 75,
   "metadata": {
    "collapsed": false
   },
   "outputs": [
    {
     "data": {
      "text/html": [
       "<div>\n",
       "<style scoped>\n",
       "    .dataframe tbody tr th:only-of-type {\n",
       "        vertical-align: middle;\n",
       "    }\n",
       "\n",
       "    .dataframe tbody tr th {\n",
       "        vertical-align: top;\n",
       "    }\n",
       "\n",
       "    .dataframe thead th {\n",
       "        text-align: right;\n",
       "    }\n",
       "</style>\n",
       "<table border=\"1\" class=\"dataframe\">\n",
       "  <thead>\n",
       "    <tr style=\"text-align: right;\">\n",
       "      <th></th>\n",
       "      <th>status_repaid</th>\n",
       "    </tr>\n",
       "  </thead>\n",
       "  <tbody>\n",
       "    <tr>\n",
       "      <th>num_bank_sms</th>\n",
       "      <td>1.163546e-01</td>\n",
       "    </tr>\n",
       "    <tr>\n",
       "      <th>num_bank_sms_deposits</th>\n",
       "      <td>7.408523e-02</td>\n",
       "    </tr>\n",
       "    <tr>\n",
       "      <th>num_bank_sms_rejections</th>\n",
       "      <td>9.182666e-02</td>\n",
       "    </tr>\n",
       "    <tr>\n",
       "      <th>num_calls</th>\n",
       "      <td>7.176662e-02</td>\n",
       "    </tr>\n",
       "    <tr>\n",
       "      <th>num_contacts</th>\n",
       "      <td>1.174586e-01</td>\n",
       "    </tr>\n",
       "    <tr>\n",
       "      <th>num_devices</th>\n",
       "      <td>1.393500e-01</td>\n",
       "    </tr>\n",
       "    <tr>\n",
       "      <th>num_sms</th>\n",
       "      <td>2.858356e-02</td>\n",
       "    </tr>\n",
       "    <tr>\n",
       "      <th>status_repaid</th>\n",
       "      <td>1.000000e+00</td>\n",
       "    </tr>\n",
       "    <tr>\n",
       "      <th>num_contacts_gt_25_percentile</th>\n",
       "      <td>8.030079e-02</td>\n",
       "    </tr>\n",
       "    <tr>\n",
       "      <th>num_contacts_gt_50_percentile</th>\n",
       "      <td>1.400000e-01</td>\n",
       "    </tr>\n",
       "    <tr>\n",
       "      <th>num_contacts_gt_75_percentile</th>\n",
       "      <td>1.962991e-01</td>\n",
       "    </tr>\n",
       "    <tr>\n",
       "      <th>num_calls_gt_25_percentile</th>\n",
       "      <td>4.618802e-02</td>\n",
       "    </tr>\n",
       "    <tr>\n",
       "      <th>num_calls_gt_50_percentile</th>\n",
       "      <td>-7.773116e-18</td>\n",
       "    </tr>\n",
       "    <tr>\n",
       "      <th>num_calls_gt_75_percentile</th>\n",
       "      <td>9.365858e-02</td>\n",
       "    </tr>\n",
       "    <tr>\n",
       "      <th>num_sms_gt_25_percentile</th>\n",
       "      <td>-2.309401e-02</td>\n",
       "    </tr>\n",
       "    <tr>\n",
       "      <th>num_sms_gt_50_percentile</th>\n",
       "      <td>-1.000000e-02</td>\n",
       "    </tr>\n",
       "    <tr>\n",
       "      <th>num_sms_gt_75_percentile</th>\n",
       "      <td>2.309401e-02</td>\n",
       "    </tr>\n",
       "  </tbody>\n",
       "</table>\n",
       "</div>"
      ],
      "text/plain": [
       "                               status_repaid\n",
       "num_bank_sms                    1.163546e-01\n",
       "num_bank_sms_deposits           7.408523e-02\n",
       "num_bank_sms_rejections         9.182666e-02\n",
       "num_calls                       7.176662e-02\n",
       "num_contacts                    1.174586e-01\n",
       "num_devices                     1.393500e-01\n",
       "num_sms                         2.858356e-02\n",
       "status_repaid                   1.000000e+00\n",
       "num_contacts_gt_25_percentile   8.030079e-02\n",
       "num_contacts_gt_50_percentile   1.400000e-01\n",
       "num_contacts_gt_75_percentile   1.962991e-01\n",
       "num_calls_gt_25_percentile      4.618802e-02\n",
       "num_calls_gt_50_percentile     -7.773116e-18\n",
       "num_calls_gt_75_percentile      9.365858e-02\n",
       "num_sms_gt_25_percentile       -2.309401e-02\n",
       "num_sms_gt_50_percentile       -1.000000e-02\n",
       "num_sms_gt_75_percentile        2.309401e-02"
      ]
     },
     "execution_count": 75,
     "metadata": {},
     "output_type": "execute_result"
    }
   ],
   "source": [
    "df.corr(method=\"pearson\")[['status_repaid']]"
   ]
  },
  {
   "cell_type": "code",
   "execution_count": null,
   "metadata": {
    "collapsed": false
   },
   "outputs": [],
   "source": []
  },
  {
   "cell_type": "code",
   "execution_count": null,
   "metadata": {
    "collapsed": false
   },
   "outputs": [],
   "source": []
  },
  {
   "cell_type": "code",
   "execution_count": null,
   "metadata": {
    "collapsed": true
   },
   "outputs": [],
   "source": []
  },
  {
   "cell_type": "code",
   "execution_count": null,
   "metadata": {
    "collapsed": true
   },
   "outputs": [],
   "source": []
  },
  {
   "cell_type": "markdown",
   "metadata": {},
   "source": [
    "###Insights:\n",
    "#### 1) The number of devices a user has is positively correlated to repaying the loan.\n",
    "#### 2) The number of contacts a user has is positively correlated to repaying the loan. \n",
    "#### 3) Users who have more than 600 contacts (~75th percentile) are more likely to replay the loan.\n",
    "#### 4) The number of bank sms messages a user has received is positively correlated to repaying the loan."
   ]
  },
  {
   "cell_type": "code",
   "execution_count": null,
   "metadata": {
    "collapsed": true
   },
   "outputs": [],
   "source": []
  }
 ],
 "metadata": {
  "kernelspec": {
   "display_name": "Python 2",
   "language": "python",
   "name": "python2"
  },
  "language_info": {
   "codemirror_mode": {
    "name": "ipython",
    "version": 2
   },
   "file_extension": ".py",
   "mimetype": "text/x-python",
   "name": "python",
   "nbconvert_exporter": "python",
   "pygments_lexer": "ipython2",
   "version": "2.7.10"
  }
 },
 "nbformat": 4,
 "nbformat_minor": 0
}
